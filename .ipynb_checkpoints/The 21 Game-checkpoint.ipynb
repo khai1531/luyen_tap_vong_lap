{
 "cells": [
  {
   "cell_type": "code",
   "execution_count": 92,
   "id": "28da5ae7-4d84-4ffd-b0da-badd57c2e388",
   "metadata": {},
   "outputs": [
    {
     "name": "stdin",
     "output_type": "stream",
     "text": [
      "Mời lựa chọn 1, 2 hoặc 3:  3\n"
     ]
    },
    {
     "name": "stdout",
     "output_type": "stream",
     "text": [
      "Lựa chọn của bạn là 3\n",
      "Computer's choice is 2\n",
      "Tổng là 5\n"
     ]
    }
   ],
   "source": [
    "import random\n",
    "def play_the_21_game():\n",
    "    total = 0\n",
    "    while True:\n",
    "        player_choice = int(input(\"Mời lựa chọn 1, 2 hoặc 3: \"))\n",
    "        if player_choice == 1 or player_choice == 2 or player_choice == 3:\n",
    "            total += player_choice\n",
    "            print(f\"Lựa chọn của bạn là {player_choice}\")\n",
    "            break\n",
    "        else:\n",
    "            print(f\"Lựa chọn không hợp lệ! Vui lòng chọn 1, 2, 3\")\n",
    "    computer_choice = random.randint(1,3)\n",
    "    total += computer_choice\n",
    "    print(f\"Computer's choice is {computer_choice}\")\n",
    "    print(f\"Tổng là {total}\")\n",
    "play_the_21_game()"
   ]
  },
  {
   "cell_type": "code",
   "execution_count": 88,
   "id": "77f52d76-ecc3-4eb5-bba5-19be5d3d4807",
   "metadata": {},
   "outputs": [
    {
     "name": "stdin",
     "output_type": "stream",
     "text": [
      "Mời lựa chọn 1, 2 hoặc 3:  3\n"
     ]
    },
    {
     "name": "stdout",
     "output_type": "stream",
     "text": [
      "Lựa chọn của bạn là 3\n",
      "Computer's choice is 1\n",
      "Tổng là 4\n"
     ]
    }
   ],
   "source": [
    "import random\n",
    "while i \n",
    "total = 0\n",
    "while True:\n",
    "    player_choice = int(input(\"Mời lựa chọn 1, 2 hoặc 3: \"))\n",
    "    if player_choice == 1 or player_choice == 2 or player_choice == 3:\n",
    "        total += player_choice\n",
    "        print(f\"Lựa chọn của bạn là {player_choice}\")\n",
    "        break\n",
    "    else:\n",
    "        print(f\"Lựa chọn không hợp lệ! Vui lòng chọn 1, 2, 3\")\n",
    "computer_choice = random.randint(1,3)\n",
    "total += computer_choice\n",
    "print(f\"Computer's choice is {computer_choice}\")\n",
    "print(f\"Tổng là {total}\")"
   ]
  }
 ],
 "metadata": {
  "kernelspec": {
   "display_name": "Python 3 (ipykernel)",
   "language": "python",
   "name": "python3"
  },
  "language_info": {
   "codemirror_mode": {
    "name": "ipython",
    "version": 3
   },
   "file_extension": ".py",
   "mimetype": "text/x-python",
   "name": "python",
   "nbconvert_exporter": "python",
   "pygments_lexer": "ipython3",
   "version": "3.11.7"
  }
 },
 "nbformat": 4,
 "nbformat_minor": 5
}
