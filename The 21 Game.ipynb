{
 "cells": [
  {
   "cell_type": "code",
   "execution_count": 22,
   "id": "2d32e26e-ee36-494a-886f-d13573a47bf4",
   "metadata": {},
   "outputs": [
    {
     "name": "stdin",
     "output_type": "stream",
     "text": [
      "Mời lựa chọn 1, 2 hoặc 3:  3\n"
     ]
    },
    {
     "name": "stdout",
     "output_type": "stream",
     "text": [
      "Lựa chọn của bạn là 3\n",
      "Computer's choice is 3\n",
      "Tổng là 6\n"
     ]
    },
    {
     "name": "stdin",
     "output_type": "stream",
     "text": [
      "Mời lựa chọn 1, 2 hoặc 3:  2\n"
     ]
    },
    {
     "name": "stdout",
     "output_type": "stream",
     "text": [
      "Lựa chọn của bạn là 2\n",
      "Computer's choice is 2\n",
      "Tổng là 10\n"
     ]
    },
    {
     "name": "stdin",
     "output_type": "stream",
     "text": [
      "Mời lựa chọn 1, 2 hoặc 3:  1\n"
     ]
    },
    {
     "name": "stdout",
     "output_type": "stream",
     "text": [
      "Lựa chọn của bạn là 1\n",
      "Computer's choice is 1\n",
      "Tổng là 12\n"
     ]
    },
    {
     "name": "stdin",
     "output_type": "stream",
     "text": [
      "Mời lựa chọn 1, 2 hoặc 3:  3\n"
     ]
    },
    {
     "name": "stdout",
     "output_type": "stream",
     "text": [
      "Lựa chọn của bạn là 3\n",
      "Computer's choice is 3\n",
      "Tổng là 18\n"
     ]
    },
    {
     "name": "stdin",
     "output_type": "stream",
     "text": [
      "Mời lựa chọn 1, 2 hoặc 3:  2\n"
     ]
    },
    {
     "name": "stdout",
     "output_type": "stream",
     "text": [
      "Lựa chọn của bạn là 2\n",
      "Computer's choice is 2\n",
      "Tổng là 22\n"
     ]
    }
   ],
   "source": [
    "import random\n",
    "def play_the_21_game():\n",
    "    total = 0\n",
    "    while total < 21:\n",
    "        while True:\n",
    "            number = int(input(\"Mời lựa chọn 1, 2 hoặc 3: \"))\n",
    "            if number == 1 or number == 2 or number == 3:\n",
    "                total += number\n",
    "                print(f\"Lựa chọn của bạn là {number}\")\n",
    "                break\n",
    "            else:\n",
    "                print(f\"Lựa chọn không hợp lệ! Vui lòng chọn 1, 2, 3\")\n",
    "        number = random.randint(1,3)\n",
    "        total += number\n",
    "        print(f\"Computer's choice is {number}\")\n",
    "        print(f\"Tổng là {total}\")\n",
    "        if total  == 21:\n",
    "            print(f\"{get_winner_name(number)} chiến thắng!\")\n",
    "            break\n",
    "def get_winner_name(player):\n",
    "  if number == 1:\n",
    "    return \"Bạn\"\n",
    "  else:\n",
    "    return \"Máy\"\n",
    "play_the_21_game()"
   ]
  }
 ],
 "metadata": {
  "kernelspec": {
   "display_name": "Python 3 (ipykernel)",
   "language": "python",
   "name": "python3"
  },
  "language_info": {
   "codemirror_mode": {
    "name": "ipython",
    "version": 3
   },
   "file_extension": ".py",
   "mimetype": "text/x-python",
   "name": "python",
   "nbconvert_exporter": "python",
   "pygments_lexer": "ipython3",
   "version": "3.11.7"
  }
 },
 "nbformat": 4,
 "nbformat_minor": 5
}
